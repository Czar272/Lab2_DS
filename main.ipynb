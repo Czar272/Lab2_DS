{
 "cells": [
  {
   "cell_type": "code",
   "execution_count": 19,
   "id": "58546cfe",
   "metadata": {},
   "outputs": [],
   "source": [
    "import pandas as pd\n",
    "from sklearn.preprocessing import MinMaxScaler\n",
    "import numpy as np\n",
    "import torch\n",
    "import torch.nn as nn\n",
    "from torch.utils.data import TensorDataset, DataLoader\n"
   ]
  },
  {
   "cell_type": "code",
   "execution_count": 20,
   "id": "44e6be3a",
   "metadata": {},
   "outputs": [],
   "source": [
    "df = pd.read_csv(\"./data/importacion.csv\", parse_dates=[\"Fecha\"])\n",
    "df.set_index(\"Fecha\", inplace=True)\n"
   ]
  },
  {
   "cell_type": "code",
   "execution_count": 21,
   "id": "0e0b9299",
   "metadata": {},
   "outputs": [],
   "source": [
    "# Preparacion gasolina regular\n",
    "regular_series = df[\"Gasolina regular\"]\n",
    "\n",
    "regular_split = int(len(regular_series) * 0.7)\n",
    "regular_train = regular_series.iloc[:regular_split] \n",
    "regular_test = regular_series.iloc[regular_split:]\n",
    "\n",
    "regular_scaler = MinMaxScaler()\n",
    "regular_train_scaled = regular_scaler.fit_transform(regular_train.values.reshape(-1, 1))\n",
    "regular_test_scaled = regular_scaler.transform(regular_test.values.reshape(-1, 1))"
   ]
  },
  {
   "cell_type": "code",
   "execution_count": 22,
   "id": "f87c2b74",
   "metadata": {},
   "outputs": [],
   "source": [
    "# Preparacion gasolina superior\n",
    "super_series = df[\"Gasolina superior\"]\n",
    "\n",
    "super_split = int(len(regular_series) * 0.7)\n",
    "super_train = super_series.iloc[:super_split] \n",
    "super_test = super_series.iloc[super_split:]\n",
    "\n",
    "super_scaler = MinMaxScaler()\n",
    "super_train_scaled = super_scaler.fit_transform(super_train.values.reshape(-1, 1))\n",
    "super_test_scaled = super_scaler.transform(super_test.values.reshape(-1, 1))"
   ]
  },
  {
   "cell_type": "code",
   "execution_count": 23,
   "id": "d7a5dc76",
   "metadata": {},
   "outputs": [],
   "source": [
    "def create_sequences(data, window=12):\n",
    "    X, y = [], []\n",
    "    for i in range(window, len(data)):\n",
    "        X.append(data[i-window:i])\n",
    "        y.append(data[i])\n",
    "    return np.array(X), np.array(y)\n"
   ]
  },
  {
   "cell_type": "code",
   "execution_count": 24,
   "id": "f8f944e5",
   "metadata": {},
   "outputs": [],
   "source": [
    "# Para Gasolina regular\n",
    "window_size = 12\n",
    "X_reg_train, y_reg_train = create_sequences(regular_train_scaled, window=window_size)\n",
    "X_reg_test,  y_reg_test  = create_sequences(regular_test_scaled,  window=window_size)\n",
    "\n",
    "# Para Gasolina superior\n",
    "X_sup_train, y_sup_train = create_sequences(super_train_scaled, window=window_size)\n",
    "X_sup_test,  y_sup_test  = create_sequences(super_test_scaled,  window=window_size)"
   ]
  },
  {
   "cell_type": "code",
   "execution_count": 25,
   "id": "c0972a3d",
   "metadata": {},
   "outputs": [],
   "source": [
    "# Redimensiona al formato [muestras, timesteps, features]\n",
    "X_reg_train = X_reg_train.reshape(-1, window_size, 1)\n",
    "X_reg_test  = X_reg_test.reshape(-1,  window_size, 1)\n",
    "X_sup_train = X_sup_train.reshape(-1, window_size, 1)\n",
    "X_sup_test  = X_sup_test.reshape(-1,  window_size, 1)"
   ]
  },
  {
   "cell_type": "code",
   "execution_count": 26,
   "id": "7d1513ce",
   "metadata": {},
   "outputs": [],
   "source": [
    "# Convierte NumPy → Torch Tensor\n",
    "\n",
    "device = torch.device(\"cuda\" if torch.cuda.is_available() else \"cpu\")\n",
    "\n",
    "X_reg_train_t = torch.tensor(X_reg_train, dtype=torch.float32).to(device)\n",
    "y_reg_train_t = torch.tensor(y_reg_train, dtype=torch.float32).to(device)\n",
    "X_reg_test_t  = torch.tensor(X_reg_test,  dtype=torch.float32).to(device)\n",
    "y_reg_test_t  = torch.tensor(y_reg_test,  dtype=torch.float32).to(device)\n"
   ]
  },
  {
   "cell_type": "code",
   "execution_count": 27,
   "id": "3eaf772c",
   "metadata": {},
   "outputs": [],
   "source": [
    "# Dataset y DataLoader\n",
    "batch_size = 32\n",
    "\n",
    "train_ds = TensorDataset(X_reg_train_t, y_reg_train_t)\n",
    "test_ds  = TensorDataset(X_reg_test_t,  y_reg_test_t)\n",
    "\n",
    "train_loader = DataLoader(train_ds, batch_size=batch_size, shuffle=True)\n",
    "test_loader  = DataLoader(test_ds,  batch_size=batch_size)"
   ]
  },
  {
   "cell_type": "code",
   "execution_count": 28,
   "id": "a3537ea9",
   "metadata": {},
   "outputs": [],
   "source": [
    "\n",
    "# Define dos arquitecturas de LSTM\n",
    "class LSTMModelA(nn.Module):\n",
    "    def __init__(self, input_size=1, hidden_size=50):\n",
    "        super().__init__()\n",
    "        self.lstm = nn.LSTM(input_size, hidden_size, batch_first=True)\n",
    "        self.dropout = nn.Dropout(0.2)\n",
    "        self.fc = nn.Linear(hidden_size, 1)\n",
    "        \n",
    "    def forward(self, x):\n",
    "        out, (h_n, c_n) = self.lstm(x)\n",
    "        last = out[:, -1, :]\n",
    "        y = self.dropout(last)\n",
    "        y = self.fc(y)\n",
    "        return y"
   ]
  },
  {
   "cell_type": "code",
   "execution_count": 29,
   "id": "4dfa2798",
   "metadata": {},
   "outputs": [],
   "source": [
    "class LSTMModelB(nn.Module):\n",
    "    def __init__(self, input_size=1, hidden_sizes=(100,50)):\n",
    "        super().__init__()\n",
    "        self.lstm1 = nn.LSTM(input_size,  hidden_sizes[0], batch_first=True)\n",
    "        self.dropout1 = nn.Dropout(0.3)\n",
    "        self.lstm2 = nn.LSTM(hidden_sizes[0], hidden_sizes[1], batch_first=True)\n",
    "        self.fc     = nn.Linear(hidden_sizes[1], 1)\n",
    "        \n",
    "    def forward(self, x):\n",
    "        out, _ = self.lstm1(x)\n",
    "        out     = self.dropout1(out)\n",
    "        out, _ = self.lstm2(out)\n",
    "        last    = out[:, -1, :]\n",
    "        return self.fc(last)"
   ]
  },
  {
   "cell_type": "code",
   "execution_count": 30,
   "id": "bf4a301a",
   "metadata": {},
   "outputs": [],
   "source": [
    "# Bucle de entrenamiento y validación\n",
    "def train_model(model, train_loader, test_loader, epochs=50, lr=1e-3):\n",
    "    model.to(device)\n",
    "    optimizer = torch.optim.Adam(model.parameters(), lr=lr)\n",
    "    criterion = nn.MSELoss()\n",
    "    best_loss = float('inf')\n",
    "    patience, counter = 5, 0\n",
    "    \n",
    "    for epoch in range(1, epochs+1):\n",
    "        # -- Entrenamiento --\n",
    "        model.train()\n",
    "        running_loss = 0.0\n",
    "        for xb, yb in train_loader:\n",
    "            optimizer.zero_grad()\n",
    "            preds = model(xb)\n",
    "            loss = criterion(preds.squeeze(), yb)\n",
    "            loss.backward()\n",
    "            optimizer.step()\n",
    "            running_loss += loss.item() * xb.size(0)\n",
    "        train_loss = running_loss / len(train_loader.dataset)\n",
    "        \n",
    "        # -- Validación --\n",
    "        model.eval()\n",
    "        running_loss = 0.0\n",
    "        with torch.no_grad():\n",
    "            for xb, yb in test_loader:\n",
    "                preds = model(xb)\n",
    "                loss = criterion(preds.squeeze(), yb)\n",
    "                running_loss += loss.item() * xb.size(0)\n",
    "        val_loss = running_loss / len(test_loader.dataset)\n",
    "        \n",
    "        print(f\"Epoch {epoch:02d} — Train MSE: {train_loss:.4f} — Val MSE: {val_loss:.4f}\")\n",
    "        \n",
    "        if val_loss < best_loss:\n",
    "            best_loss = val_loss\n",
    "            counter = 0\n",
    "            torch.save(model.state_dict(), \"best_model.pth\")\n",
    "        else:\n",
    "            counter += 1\n",
    "            if counter >= patience:\n",
    "                print(\"Early stopping.\")\n",
    "                break\n",
    "    \n",
    "    model.load_state_dict(torch.load(\"best_model.pth\"))\n",
    "    return model"
   ]
  },
  {
   "cell_type": "code",
   "execution_count": 31,
   "id": "ff7d2ad9",
   "metadata": {},
   "outputs": [
    {
     "name": "stdout",
     "output_type": "stream",
     "text": [
      "Entrenando Modelo A\n",
      "Epoch 01 — Train MSE: 0.1747 — Val MSE: 1.1837\n",
      "Epoch 02 — Train MSE: 0.1123 — Val MSE: 0.9472\n",
      "Epoch 03 — Train MSE: 0.0678 — Val MSE: 0.6721\n",
      "Epoch 04 — Train MSE: 0.0518 — Val MSE: 0.4472\n",
      "Epoch 05 — Train MSE: 0.0631 — Val MSE: 0.4865\n"
     ]
    },
    {
     "name": "stderr",
     "output_type": "stream",
     "text": [
      "c:\\Users\\MSI\\Desktop\\info\\Escritorio\\UVG\\8vo Semestre\\Data Science\\DSvenv\\Lib\\site-packages\\torch\\nn\\modules\\loss.py:610: UserWarning: Using a target size (torch.Size([32, 1])) that is different to the input size (torch.Size([32])). This will likely lead to incorrect results due to broadcasting. Please ensure they have the same size.\n",
      "  return F.mse_loss(input, target, reduction=self.reduction)\n",
      "c:\\Users\\MSI\\Desktop\\info\\Escritorio\\UVG\\8vo Semestre\\Data Science\\DSvenv\\Lib\\site-packages\\torch\\nn\\modules\\loss.py:610: UserWarning: Using a target size (torch.Size([1, 1])) that is different to the input size (torch.Size([])). This will likely lead to incorrect results due to broadcasting. Please ensure they have the same size.\n",
      "  return F.mse_loss(input, target, reduction=self.reduction)\n",
      "c:\\Users\\MSI\\Desktop\\info\\Escritorio\\UVG\\8vo Semestre\\Data Science\\DSvenv\\Lib\\site-packages\\torch\\nn\\modules\\loss.py:610: UserWarning: Using a target size (torch.Size([12, 1])) that is different to the input size (torch.Size([12])). This will likely lead to incorrect results due to broadcasting. Please ensure they have the same size.\n",
      "  return F.mse_loss(input, target, reduction=self.reduction)\n"
     ]
    },
    {
     "name": "stdout",
     "output_type": "stream",
     "text": [
      "Epoch 06 — Train MSE: 0.0529 — Val MSE: 0.5762\n",
      "Epoch 07 — Train MSE: 0.0505 — Val MSE: 0.6581\n",
      "Epoch 08 — Train MSE: 0.0517 — Val MSE: 0.6683\n",
      "Epoch 09 — Train MSE: 0.0519 — Val MSE: 0.6663\n",
      "Early stopping.\n",
      "Entrenando Modelo B\n",
      "Epoch 01 — Train MSE: 0.0733 — Val MSE: 0.6763\n",
      "Epoch 02 — Train MSE: 0.0484 — Val MSE: 0.5099\n",
      "Epoch 03 — Train MSE: 0.0521 — Val MSE: 0.6139\n",
      "Epoch 04 — Train MSE: 0.0515 — Val MSE: 0.7304\n",
      "Epoch 05 — Train MSE: 0.0509 — Val MSE: 0.6632\n",
      "Epoch 06 — Train MSE: 0.0488 — Val MSE: 0.6333\n",
      "Epoch 07 — Train MSE: 0.0485 — Val MSE: 0.6116\n",
      "Early stopping.\n"
     ]
    }
   ],
   "source": [
    "# Ejecución ejemplar\n",
    "model_a = LSTMModelA()\n",
    "print(\"Entrenando Modelo A\")\n",
    "model_a = train_model(model_a, train_loader, test_loader)\n",
    "\n",
    "model_b = LSTMModelB()\n",
    "print(\"Entrenando Modelo B\")\n",
    "model_b = train_model(model_b, train_loader, test_loader)\n"
   ]
  }
 ],
 "metadata": {
  "kernelspec": {
   "display_name": "Python (dsvenv)",
   "language": "python",
   "name": "dsvenv"
  },
  "language_info": {
   "codemirror_mode": {
    "name": "ipython",
    "version": 3
   },
   "file_extension": ".py",
   "mimetype": "text/x-python",
   "name": "python",
   "nbconvert_exporter": "python",
   "pygments_lexer": "ipython3",
   "version": "3.13.3"
  }
 },
 "nbformat": 4,
 "nbformat_minor": 5
}
